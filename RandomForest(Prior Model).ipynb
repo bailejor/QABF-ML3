{
 "cells": [
  {
   "cell_type": "code",
   "execution_count": null,
   "metadata": {},
   "outputs": [],
   "source": [
    "#We tried Random Forest as one of the first algorithms but didn't have great results. \n",
    "#Also tried KNN, SVC and a few others.\n",
    "\n"
   ]
  },
  {
   "cell_type": "code",
   "execution_count": 1,
   "metadata": {},
   "outputs": [
    {
     "name": "stderr",
     "output_type": "stream",
     "text": [
      "Using TensorFlow backend.\n"
     ]
    }
   ],
   "source": [
    "import numpy as np\n",
    "import pandas\n",
    "from math import sqrt\n",
    "from numpy.random import seed\n",
    "from sklearn.ensemble import RandomForestClassifier\n",
    "import random"
   ]
  },
  {
   "cell_type": "code",
   "execution_count": null,
   "metadata": {},
   "outputs": [
    {
     "name": "stdout",
     "output_type": "stream",
     "text": [
      "0.5510204081632653\n",
      "0.5510204081632653\n",
      "0.5510204081632653\n",
      "0.5918367346938775\n",
      "0.6122448979591837\n",
      "0.6122448979591837\n",
      "0.6122448979591837\n",
      "0.6122448979591837\n",
      "0.5714285714285714\n",
      "0.5714285714285714\n",
      "0.5714285714285714\n",
      "0.6122448979591837\n",
      "0.5918367346938775\n",
      "0.5918367346938775\n",
      "0.5918367346938775\n",
      "0.5918367346938775\n",
      "0.6122448979591837\n",
      "0.6122448979591837\n",
      "0.6122448979591837\n",
      "0.6122448979591837\n",
      "0.6122448979591837\n",
      "0.6122448979591837\n",
      "0.6122448979591837\n",
      "0.6122448979591837\n",
      "0.6122448979591837\n",
      "0.6122448979591837\n",
      "0.6122448979591837\n",
      "0.6122448979591837\n",
      "0.6122448979591837\n",
      "0.6122448979591837\n",
      "0.6122448979591837\n",
      "0.6122448979591837\n",
      "0.5714285714285714\n",
      "0.5714285714285714\n",
      "0.5714285714285714\n",
      "0.6122448979591837\n",
      "0.5714285714285714\n",
      "0.5714285714285714\n",
      "0.5714285714285714\n",
      "0.5510204081632653\n",
      "0.6326530612244898\n",
      "0.6326530612244898\n",
      "0.6326530612244898\n",
      "0.6326530612244898\n",
      "0.6122448979591837\n",
      "0.6122448979591837\n",
      "0.6122448979591837\n",
      "0.6326530612244898\n",
      "0.6122448979591837\n",
      "0.6122448979591837\n",
      "0.6122448979591837\n",
      "0.6122448979591837\n",
      "0.6122448979591837\n",
      "0.6122448979591837\n",
      "0.6122448979591837\n",
      "0.6122448979591837\n",
      "0.6122448979591837\n",
      "0.6122448979591837\n",
      "0.6122448979591837\n"
     ]
    }
   ],
   "source": [
    "dataframe = pandas.read_csv(\"FullTest.csv\", header = 0)\n",
    "\n",
    "\n",
    "\n",
    "\n",
    "dataset = dataframe.values\n",
    "# split into input (X) and output (Y) variables\n",
    "X_orig = dataset[:,0:8].astype(float)\n",
    "y_orig = dataset[:,8:12].astype(float)\n",
    "\n",
    "\n",
    "        \n",
    "\n",
    "################################################################################################################\n",
    "search_list3 = [4, 6]\n",
    "search_list1 = [2, 3, 4, 5]\n",
    "search_list2 = [10, 5, 20, 50, 100, 300, 500, 1000]\n",
    "for m in search_list3:\n",
    "    for l in search_list2:\n",
    "        for i in search_list1:\n",
    "            classifier = RandomForestClassifier(bootstrap = True, n_estimators = l, criterion = 'gini', random_state = 6,\n",
    "            max_depth = 20, max_features = m, max_leaf_nodes = None, \n",
    "            min_impurity_decrease = 0.0, min_impurity_split = None, min_samples_split = i ,\n",
    "            min_samples_leaf = 2, min_weight_fraction_leaf = 0.0, n_jobs = -1, oob_score = False,\n",
    "            verbose = 0, warm_start = False)\n",
    "\n",
    "\n",
    "            i = 0\n",
    "            j = 0\n",
    "            for p in range(0, 49):\n",
    "                X_copy = X_orig[(p):(p+1)]  #Slice the ith element from the numpy array\n",
    "                y_copy = y_orig[(p):(p+1)]\n",
    "                X_model = X_orig\n",
    "                y_model = y_orig  #Set X and y equal to samples and labels\n",
    "\n",
    "\n",
    "                X_model = np.delete(X_model, p, axis = 0)  #Create a new array to train the model with slicing out the ith item for LOOCV\n",
    "                y_model = np.delete(y_model, p, axis = 0)\n",
    "\n",
    "                train_set = np.concatenate((X_model, y_model), axis = 1) #combine numpy matrices \n",
    "\n",
    "\n",
    "                classifier.fit(X_model, y_model)\n",
    "                prediction = classifier.predict(X_copy)\n",
    "\t\t\t#print(prediction, y_copy)\n",
    "                if np.array_equal(y_copy, prediction):\n",
    "                    j = j + 1\n",
    "\t\t\t\t    #print(y_copy, prediction)\n",
    "                if np.not_equal:\n",
    "\t\t\t\t    #print(y_copy, prediction)\n",
    "                    pass\n",
    "            print(j/49)\n",
    "\n",
    "\n",
    "\n",
    "\n"
   ]
  },
  {
   "cell_type": "code",
   "execution_count": null,
   "metadata": {},
   "outputs": [],
   "source": []
  }
 ],
 "metadata": {
  "kernelspec": {
   "display_name": "Python 3",
   "language": "python",
   "name": "python3"
  },
  "language_info": {
   "codemirror_mode": {
    "name": "ipython",
    "version": 3
   },
   "file_extension": ".py",
   "mimetype": "text/x-python",
   "name": "python",
   "nbconvert_exporter": "python",
   "pygments_lexer": "ipython3",
   "version": "3.7.4"
  }
 },
 "nbformat": 4,
 "nbformat_minor": 2
}
